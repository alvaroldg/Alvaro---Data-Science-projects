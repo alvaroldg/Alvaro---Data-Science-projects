{
 "cells": [
  {
   "cell_type": "code",
   "execution_count": 1,
   "metadata": {
    "colab": {
     "base_uri": "https://localhost:8080/"
    },
    "id": "QchYmzg3sFuW",
    "outputId": "4f2f921f-df55-4da1-ec37-810b1808a07a"
   },
   "outputs": [
    {
     "name": "stdout",
     "output_type": "stream",
     "text": [
      "Mounted at /gdrive\n"
     ]
    }
   ],
   "source": [
    "# Al tener los datos subidos en el One Drive personal debemos de llamarlos y\n",
    "# guardarlos en el entorno de Google Colab\n",
    "\n",
    "from google.colab import drive # Llamamos a la librería necesaria\n",
    "\n",
    "drive.mount('/gdrive') # Monta el drive en Google Colab y establece la ruta de acceso.\n",
    "%cp -r /gdrive/MyDrive/UEM/data/TFM/* /content/ # Cogemos todos los datos de la ruta"
   ]
  },
  {
   "cell_type": "code",
   "execution_count": 2,
   "metadata": {
    "id": "OmXV6IghsfUt"
   },
   "outputs": [],
   "source": [
    "import numpy as np\n",
    "import pickle\n",
    "from sklearn.model_selection import train_test_split\n",
    "from tensorflow.keras.applications import ResNet50\n",
    "from tensorflow.keras.layers import Dense, Flatten\n",
    "from tensorflow.keras.models import Model\n",
    "from tensorflow.keras.optimizers import Adam\n",
    "from tensorflow.keras.layers import Input\n",
    "import os"
   ]
  },
  {
   "cell_type": "code",
   "execution_count": 3,
   "metadata": {
    "colab": {
     "base_uri": "https://localhost:8080/"
    },
    "id": "NOs_xNzqsOda",
    "outputId": "7a341b74-105d-48b0-ee8e-9614cd7cbc29"
   },
   "outputs": [
    {
     "name": "stdout",
     "output_type": "stream",
     "text": [
      "(222019, 50, 50, 3)\n",
      "(222019,)\n"
     ]
    }
   ],
   "source": [
    "# Abre el archivo de entrenamiento\n",
    "with open('./IDC_train.dat', 'rb') as f:\n",
    "    (X_train, y_train) = pickle.load(f)\n",
    "# Abre el archivo de prueba\n",
    "with open('./IDC_test.dat', 'rb') as f:\n",
    "    (X_test, y_test) = pickle.load(f)\n",
    "\n",
    "# Comprobamos la cantidad de datos que tenemos\n",
    "print(X_train.shape)\n",
    "print(y_train.shape)"
   ]
  },
  {
   "cell_type": "code",
   "execution_count": 4,
   "metadata": {
    "colab": {
     "base_uri": "https://localhost:8080/"
    },
    "id": "-_TIT_4zy6pu",
    "outputId": "db26a7dd-e125-472d-8445-c158e8d0585a"
   },
   "outputs": [
    {
     "name": "stdout",
     "output_type": "stream",
     "text": [
      "Forma de X_train_subset: (155413, 50, 50, 3)\n",
      "Forma de y_train_subset: (155413,)\n",
      "Forma de X_test_subset: (38853, 50, 50, 3)\n",
      "Forma de y_test_subset: (38853,)\n"
     ]
    }
   ],
   "source": [
    "from sklearn.model_selection import train_test_split\n",
    "\n",
    "# Obtiene el 30% de los datos de entrenamiento\n",
    "X_train_subset, _, y_train_subset, _ = train_test_split(X_train, y_train, test_size=0.3, random_state=42)\n",
    "\n",
    "# Obtiene el 30% de los datos de prueba\n",
    "X_test_subset, _, y_test_subset, _ = train_test_split(X_test, y_test, test_size=0.3, random_state=42)\n",
    "\n",
    "# Imprime las formas de los conjuntos reducidos\n",
    "print(\"Forma de X_train_subset:\", X_train_subset.shape)\n",
    "print(\"Forma de y_train_subset:\", y_train_subset.shape)\n",
    "print(\"Forma de X_test_subset:\", X_test_subset.shape)\n",
    "print(\"Forma de y_test_subset:\", y_test_subset.shape)"
   ]
  },
  {
   "cell_type": "code",
   "execution_count": 5,
   "metadata": {
    "colab": {
     "base_uri": "https://localhost:8080/"
    },
    "id": "2n2rfAOTiG7-",
    "outputId": "7d8a9462-5004-47ba-814f-fd4b5660fefd"
   },
   "outputs": [
    {
     "name": "stdout",
     "output_type": "stream",
     "text": [
      "Downloading data from https://storage.googleapis.com/tensorflow/keras-applications/resnet/resnet50_weights_tf_dim_ordering_tf_kernels_notop.h5\n",
      "94765736/94765736 [==============================] - 3s 0us/step\n",
      "Epoch 1/10\n",
      "4857/4857 [==============================] - 253s 49ms/step - loss: 0.3838 - accuracy: 0.8367 - val_loss: 0.5095 - val_accuracy: 0.8304\n",
      "Epoch 2/10\n",
      "4857/4857 [==============================] - 238s 49ms/step - loss: 0.3547 - accuracy: 0.8504 - val_loss: 0.8527 - val_accuracy: 0.8409\n",
      "Epoch 3/10\n",
      "4857/4857 [==============================] - 239s 49ms/step - loss: 0.3457 - accuracy: 0.8552 - val_loss: 0.3664 - val_accuracy: 0.8453\n",
      "Epoch 4/10\n",
      "4857/4857 [==============================] - 241s 50ms/step - loss: 0.3285 - accuracy: 0.8603 - val_loss: 0.3053 - val_accuracy: 0.8704\n",
      "Epoch 5/10\n",
      "4857/4857 [==============================] - 243s 50ms/step - loss: 0.3335 - accuracy: 0.8584 - val_loss: 0.3918 - val_accuracy: 0.8356\n",
      "Epoch 6/10\n",
      "4857/4857 [==============================] - 243s 50ms/step - loss: 0.3151 - accuracy: 0.8664 - val_loss: 0.7003 - val_accuracy: 0.7198\n",
      "Epoch 7/10\n",
      "4857/4857 [==============================] - 243s 50ms/step - loss: 0.3122 - accuracy: 0.8688 - val_loss: 0.3069 - val_accuracy: 0.8689\n",
      "Epoch 8/10\n",
      "4857/4857 [==============================] - 243s 50ms/step - loss: 0.3103 - accuracy: 0.8704 - val_loss: 0.4518 - val_accuracy: 0.8246\n",
      "Epoch 9/10\n",
      "4857/4857 [==============================] - 243s 50ms/step - loss: 0.3076 - accuracy: 0.8700 - val_loss: 0.3057 - val_accuracy: 0.8716\n",
      "Epoch 10/10\n",
      "4857/4857 [==============================] - 243s 50ms/step - loss: 0.3093 - accuracy: 0.8698 - val_loss: 0.3225 - val_accuracy: 0.8642\n",
      "Model saved successfully.\n",
      "Epoch 1/10\n",
      "4857/4857 [==============================] - 250s 50ms/step - loss: 0.3184 - accuracy: 0.8695 - val_loss: 0.3184 - val_accuracy: 0.8628\n",
      "Epoch 2/10\n",
      "4857/4857 [==============================] - 243s 50ms/step - loss: 0.3064 - accuracy: 0.8721 - val_loss: 0.3634 - val_accuracy: 0.8577\n",
      "Epoch 3/10\n",
      "4857/4857 [==============================] - 243s 50ms/step - loss: 0.3059 - accuracy: 0.8726 - val_loss: 0.3369 - val_accuracy: 0.8647\n",
      "Epoch 4/10\n",
      "4857/4857 [==============================] - 243s 50ms/step - loss: 0.2974 - accuracy: 0.8750 - val_loss: 0.2924 - val_accuracy: 0.8769\n",
      "Epoch 5/10\n",
      "4857/4857 [==============================] - 243s 50ms/step - loss: 0.3148 - accuracy: 0.8670 - val_loss: 0.3080 - val_accuracy: 0.8682\n",
      "Epoch 6/10\n",
      "4857/4857 [==============================] - 243s 50ms/step - loss: 0.3020 - accuracy: 0.8734 - val_loss: 0.7800 - val_accuracy: 0.6366\n",
      "Epoch 7/10\n",
      "4857/4857 [==============================] - 243s 50ms/step - loss: 0.3065 - accuracy: 0.8688 - val_loss: 0.3645 - val_accuracy: 0.8365\n",
      "Epoch 8/10\n",
      "4857/4857 [==============================] - 243s 50ms/step - loss: 0.3038 - accuracy: 0.8715 - val_loss: 0.2926 - val_accuracy: 0.8762\n",
      "Epoch 9/10\n",
      "4857/4857 [==============================] - 243s 50ms/step - loss: 0.3010 - accuracy: 0.8713 - val_loss: 0.7684 - val_accuracy: 0.6118\n",
      "Epoch 10/10\n",
      "4857/4857 [==============================] - 243s 50ms/step - loss: 0.3017 - accuracy: 0.8717 - val_loss: 0.4751 - val_accuracy: 0.7762\n",
      "Model saved successfully.\n",
      "Epoch 1/10\n",
      "4857/4857 [==============================] - 250s 50ms/step - loss: 0.3176 - accuracy: 0.8672 - val_loss: 0.4342 - val_accuracy: 0.8231\n",
      "Epoch 2/10\n",
      "4857/4857 [==============================] - 243s 50ms/step - loss: 0.2964 - accuracy: 0.8748 - val_loss: 0.3325 - val_accuracy: 0.8636\n",
      "Epoch 3/10\n",
      "4857/4857 [==============================] - 243s 50ms/step - loss: 0.2853 - accuracy: 0.8799 - val_loss: 0.3446 - val_accuracy: 0.8721\n",
      "Epoch 4/10\n",
      "4857/4857 [==============================] - 243s 50ms/step - loss: 0.2818 - accuracy: 0.8811 - val_loss: 0.3020 - val_accuracy: 0.8760\n",
      "Epoch 5/10\n",
      "4857/4857 [==============================] - 242s 50ms/step - loss: 0.2820 - accuracy: 0.8816 - val_loss: 0.3000 - val_accuracy: 0.8761\n",
      "Epoch 6/10\n",
      "4857/4857 [==============================] - 242s 50ms/step - loss: 0.2778 - accuracy: 0.8832 - val_loss: 0.5020 - val_accuracy: 0.8196\n",
      "Epoch 7/10\n",
      "4857/4857 [==============================] - 242s 50ms/step - loss: 0.2751 - accuracy: 0.8844 - val_loss: 0.3231 - val_accuracy: 0.8656\n",
      "Epoch 8/10\n",
      "4857/4857 [==============================] - 243s 50ms/step - loss: 0.2778 - accuracy: 0.8828 - val_loss: 0.3760 - val_accuracy: 0.8422\n",
      "Epoch 9/10\n",
      "4857/4857 [==============================] - 242s 50ms/step - loss: 0.2738 - accuracy: 0.8844 - val_loss: 0.4214 - val_accuracy: 0.8497\n",
      "Epoch 10/10\n",
      "4857/4857 [==============================] - 242s 50ms/step - loss: 0.2738 - accuracy: 0.8849 - val_loss: 0.3732 - val_accuracy: 0.8404\n",
      "Model saved successfully.\n"
     ]
    }
   ],
   "source": [
    "import pickle\n",
    "from keras.optimizers import Adam\n",
    "from keras.layers import Flatten, Dense\n",
    "from keras.models import Model\n",
    "from tensorflow.keras.applications import ResNet50\n",
    "\n",
    "class BreastCancerModel:\n",
    "    def __init__(self, name, base_model, input_shape):\n",
    "        self.name = name\n",
    "        self.base_model = base_model\n",
    "        self.input_shape = input_shape\n",
    "        self.models = {}\n",
    "\n",
    "    def build_model(self, num_neurons):\n",
    "        x = Flatten()(self.base_model.output)\n",
    "        x = Dense(num_neurons, activation='relu')(x)\n",
    "        x = Dense(num_neurons // 2, activation='relu')(x)\n",
    "        predictions = Dense(1, activation='sigmoid')(x)\n",
    "        model = Model(self.base_model.input, predictions)\n",
    "        return model\n",
    "\n",
    "    def train(self, X_train, y_train, X_val, y_val, batch_size, epochs, num_neurons):\n",
    "        model = self.build_model(num_neurons)\n",
    "        model.compile(optimizer=Adam(), loss='binary_crossentropy', metrics=['accuracy'])\n",
    "        history = model.fit(X_train, y_train, batch_size=batch_size, epochs=epochs,\n",
    "                            validation_data=(X_val, y_val))\n",
    "        self.models[num_neurons] = model\n",
    "        return history\n",
    "\n",
    "    def save_model(self, num_neurons, filepath):\n",
    "        if num_neurons in self.models:\n",
    "            model = self.models[num_neurons]\n",
    "            model.save(filepath)\n",
    "            print(\"Model saved successfully.\")\n",
    "        else:\n",
    "            print(\"Model not found for the specified number of neurons.\")\n",
    "\n",
    "# Define the input shape\n",
    "input_shape = (50, 50, 3)  # Adjust the number of channels if necessary\n",
    "\n",
    "# Create ResNet50 model\n",
    "resnet_base_model = ResNet50(weights='imagenet', include_top=False, input_shape=input_shape)\n",
    "resnet_model = BreastCancerModel(\"ResNet50\", resnet_base_model, input_shape)\n",
    "\n",
    "# Train the models\n",
    "batch_size = 32\n",
    "epochs = 10\n",
    "\n",
    "# Obtener el directorio de Google Drive\n",
    "drive_path = '/gdrive/MyDrive/UEM/data/TFM/'\n",
    "\n",
    "# Ruta de la carpeta donde deseas guardar los modelos\n",
    "folder_path = os.path.join(drive_path, 'Modelos/ResNet50/')\n",
    "os.makedirs(folder_path, exist_ok=True)  # Crear la carpeta si no existe\n",
    "\n",
    "# Train and save models with different numbers of neurons\n",
    "num_neurons_list = [10, 20, 30]\n",
    "for num_neurons in num_neurons_list:\n",
    "    history = resnet_model.train(X_train_subset, y_train_subset, X_test_subset, y_test_subset, batch_size, epochs, num_neurons)\n",
    "\n",
    "    # Guardar el historial (history)\n",
    "    history_filepath = os.path.join(folder_path, f\"ResNet50_{num_neurons}_history.pkl\")\n",
    "    with open(history_filepath, 'wb') as file:\n",
    "        pickle.dump(history.history, file)\n",
    "\n",
    "    # Guarda el modelo completo\n",
    "    model_filepath = os.path.join(folder_path, f\"ResNet50__{num_neurons}.h5\")\n",
    "    resnet_model.save_model(num_neurons, model_filepath)"
   ]
  },
  {
   "cell_type": "code",
   "execution_count": null,
   "metadata": {
    "id": "yZt_1FDX0nZL"
   },
   "outputs": [],
   "source": []
  }
 ],
 "metadata": {
  "accelerator": "GPU",
  "colab": {
   "machine_shape": "hm",
   "provenance": []
  },
  "kernelspec": {
   "display_name": "Python 3 (ipykernel)",
   "language": "python",
   "name": "python3"
  },
  "language_info": {
   "codemirror_mode": {
    "name": "ipython",
    "version": 3
   },
   "file_extension": ".py",
   "mimetype": "text/x-python",
   "name": "python",
   "nbconvert_exporter": "python",
   "pygments_lexer": "ipython3",
   "version": "3.11.3"
  }
 },
 "nbformat": 4,
 "nbformat_minor": 1
}
