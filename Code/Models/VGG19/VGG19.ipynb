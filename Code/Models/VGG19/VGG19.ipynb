{
 "cells": [
  {
   "cell_type": "code",
   "execution_count": 1,
   "metadata": {
    "colab": {
     "base_uri": "https://localhost:8080/"
    },
    "id": "S9EXYAAp3vmZ",
    "outputId": "320196de-381b-4b84-a721-8a0772242059"
   },
   "outputs": [
    {
     "name": "stdout",
     "output_type": "stream",
     "text": [
      "Mounted at /gdrive\n"
     ]
    }
   ],
   "source": [
    "# Al tener los datos subidos en el One Drive personal debemos de llamarlos y\n",
    "# guardarlos en el entorno de Google Colab\n",
    "\n",
    "from google.colab import drive # Llamamos a la librería necesaria\n",
    "\n",
    "drive.mount('/gdrive') # Monta el drive en Google Colab y establece la ruta de acceso.\n",
    "%cp -r /gdrive/MyDrive/UEM/data/TFM/* /content/ # Cogemos todos los datos de la ruta"
   ]
  },
  {
   "cell_type": "code",
   "execution_count": 2,
   "metadata": {
    "id": "RNTGU9pw3wpD"
   },
   "outputs": [],
   "source": [
    "import numpy as np\n",
    "import pickle\n",
    "from sklearn.model_selection import train_test_split\n",
    "from tensorflow.keras.applications import VGG19\n",
    "from tensorflow.keras.layers import Dense, Flatten\n",
    "from tensorflow.keras.models import Model\n",
    "from tensorflow.keras.optimizers import Adam\n",
    "from tensorflow.keras.layers import Input\n",
    "import os"
   ]
  },
  {
   "cell_type": "code",
   "execution_count": 3,
   "metadata": {
    "colab": {
     "base_uri": "https://localhost:8080/"
    },
    "id": "eoMz_OxM3xqJ",
    "outputId": "ee10a58a-8a67-48d6-ba36-53ff3d45bb98"
   },
   "outputs": [
    {
     "name": "stdout",
     "output_type": "stream",
     "text": [
      "(222019, 50, 50, 3)\n",
      "(222019,)\n"
     ]
    }
   ],
   "source": [
    "# Abre el archivo de entrenamiento\n",
    "with open('./IDC_train.dat', 'rb') as f:\n",
    "    (X_train, y_train) = pickle.load(f)\n",
    "# Abre el archivo de prueba\n",
    "with open('./IDC_test.dat', 'rb') as f:\n",
    "    (X_test, y_test) = pickle.load(f)\n",
    "\n",
    "# Comprobamos la cantidad de datos que tenemos\n",
    "print(X_train.shape)\n",
    "print(y_train.shape)"
   ]
  },
  {
   "cell_type": "code",
   "execution_count": 4,
   "metadata": {
    "colab": {
     "base_uri": "https://localhost:8080/"
    },
    "id": "sHTzWJ0S3y-p",
    "outputId": "b3128d00-8dc8-4479-e462-d50e8c81e759"
   },
   "outputs": [
    {
     "name": "stdout",
     "output_type": "stream",
     "text": [
      "Forma de X_train_subset: (155413, 50, 50, 3)\n",
      "Forma de y_train_subset: (155413,)\n",
      "Forma de X_test_subset: (38853, 50, 50, 3)\n",
      "Forma de y_test_subset: (38853,)\n"
     ]
    }
   ],
   "source": [
    "from sklearn.model_selection import train_test_split\n",
    "\n",
    "# Obtiene el 30% de los datos de entrenamiento\n",
    "X_train_subset, _, y_train_subset, _ = train_test_split(X_train, y_train, test_size=0.3, random_state=42)\n",
    "\n",
    "# Obtiene el 30% de los datos de prueba\n",
    "X_test_subset, _, y_test_subset, _ = train_test_split(X_test, y_test, test_size=0.3, random_state=42)\n",
    "\n",
    "# Imprime las formas de los conjuntos reducidos\n",
    "print(\"Forma de X_train_subset:\", X_train_subset.shape)\n",
    "print(\"Forma de y_train_subset:\", y_train_subset.shape)\n",
    "print(\"Forma de X_test_subset:\", X_test_subset.shape)\n",
    "print(\"Forma de y_test_subset:\", y_test_subset.shape)"
   ]
  },
  {
   "cell_type": "code",
   "execution_count": 5,
   "metadata": {
    "colab": {
     "base_uri": "https://localhost:8080/"
    },
    "id": "JzIwLyKa30jR",
    "outputId": "28ddba5b-2837-434a-fc82-2212c4cfbc6a"
   },
   "outputs": [
    {
     "name": "stdout",
     "output_type": "stream",
     "text": [
      "Downloading data from https://storage.googleapis.com/tensorflow/keras-applications/vgg19/vgg19_weights_tf_dim_ordering_tf_kernels_notop.h5\n",
      "80134624/80134624 [==============================] - 2s 0us/step\n",
      "Epoch 1/10\n",
      "4857/4857 [==============================] - 268s 52ms/step - loss: 0.6907 - accuracy: 0.7143 - val_loss: 0.5948 - val_accuracy: 0.7181\n",
      "Epoch 2/10\n",
      "4857/4857 [==============================] - 252s 52ms/step - loss: 0.5984 - accuracy: 0.7142 - val_loss: 0.5948 - val_accuracy: 0.7181\n",
      "Epoch 3/10\n",
      "4857/4857 [==============================] - 252s 52ms/step - loss: 0.5984 - accuracy: 0.7142 - val_loss: 0.5948 - val_accuracy: 0.7181\n",
      "Epoch 4/10\n",
      "4857/4857 [==============================] - 251s 52ms/step - loss: 0.5984 - accuracy: 0.7142 - val_loss: 0.5950 - val_accuracy: 0.7181\n",
      "Epoch 5/10\n",
      "4857/4857 [==============================] - 251s 52ms/step - loss: 0.5984 - accuracy: 0.7142 - val_loss: 0.5950 - val_accuracy: 0.7181\n",
      "Epoch 6/10\n",
      "4857/4857 [==============================] - 251s 52ms/step - loss: 0.5984 - accuracy: 0.7142 - val_loss: 0.5949 - val_accuracy: 0.7181\n",
      "Epoch 7/10\n",
      "4857/4857 [==============================] - 252s 52ms/step - loss: 0.5984 - accuracy: 0.7142 - val_loss: 0.5949 - val_accuracy: 0.7181\n",
      "Epoch 8/10\n",
      "4857/4857 [==============================] - 252s 52ms/step - loss: 0.5984 - accuracy: 0.7142 - val_loss: 0.5948 - val_accuracy: 0.7181\n",
      "Epoch 9/10\n",
      "4857/4857 [==============================] - 252s 52ms/step - loss: 0.5984 - accuracy: 0.7142 - val_loss: 0.5948 - val_accuracy: 0.7181\n",
      "Epoch 10/10\n",
      "4857/4857 [==============================] - 251s 52ms/step - loss: 0.5984 - accuracy: 0.7142 - val_loss: 0.5948 - val_accuracy: 0.7181\n",
      "Model saved successfully.\n",
      "Epoch 1/10\n",
      "4857/4857 [==============================] - 259s 52ms/step - loss: 0.7051 - accuracy: 0.7472 - val_loss: 0.5948 - val_accuracy: 0.7181\n",
      "Epoch 2/10\n",
      "4857/4857 [==============================] - 251s 52ms/step - loss: 0.5984 - accuracy: 0.7142 - val_loss: 0.5951 - val_accuracy: 0.7181\n",
      "Epoch 3/10\n",
      "4857/4857 [==============================] - 251s 52ms/step - loss: 0.5984 - accuracy: 0.7142 - val_loss: 0.5948 - val_accuracy: 0.7181\n",
      "Epoch 4/10\n",
      "4857/4857 [==============================] - 251s 52ms/step - loss: 0.5985 - accuracy: 0.7142 - val_loss: 0.5949 - val_accuracy: 0.7181\n",
      "Epoch 5/10\n",
      "4857/4857 [==============================] - 251s 52ms/step - loss: 0.5984 - accuracy: 0.7142 - val_loss: 0.5948 - val_accuracy: 0.7181\n",
      "Epoch 6/10\n",
      "4857/4857 [==============================] - 251s 52ms/step - loss: 0.5985 - accuracy: 0.7142 - val_loss: 0.5949 - val_accuracy: 0.7181\n",
      "Epoch 7/10\n",
      "4857/4857 [==============================] - 251s 52ms/step - loss: 0.5984 - accuracy: 0.7142 - val_loss: 0.5951 - val_accuracy: 0.7181\n",
      "Epoch 8/10\n",
      "4857/4857 [==============================] - 251s 52ms/step - loss: 0.5985 - accuracy: 0.7142 - val_loss: 0.5948 - val_accuracy: 0.7181\n",
      "Epoch 9/10\n",
      "4857/4857 [==============================] - 251s 52ms/step - loss: 0.5984 - accuracy: 0.7142 - val_loss: 0.5949 - val_accuracy: 0.7181\n",
      "Epoch 10/10\n",
      "4857/4857 [==============================] - 251s 52ms/step - loss: 0.5984 - accuracy: 0.7142 - val_loss: 0.5948 - val_accuracy: 0.7181\n",
      "Model saved successfully.\n",
      "Epoch 1/10\n",
      "4857/4857 [==============================] - 260s 52ms/step - loss: 1.1850 - accuracy: 0.8173 - val_loss: 0.4200 - val_accuracy: 0.8167\n",
      "Epoch 2/10\n",
      "4857/4857 [==============================] - 253s 52ms/step - loss: 0.4144 - accuracy: 0.8211 - val_loss: 0.3743 - val_accuracy: 0.8339\n",
      "Epoch 3/10\n",
      "4857/4857 [==============================] - 250s 52ms/step - loss: 0.5993 - accuracy: 0.7149 - val_loss: 0.5948 - val_accuracy: 0.7181\n",
      "Epoch 4/10\n",
      "4857/4857 [==============================] - 250s 51ms/step - loss: 0.5987 - accuracy: 0.7142 - val_loss: 0.5948 - val_accuracy: 0.7181\n",
      "Epoch 5/10\n",
      "4857/4857 [==============================] - 250s 51ms/step - loss: 0.5987 - accuracy: 0.7142 - val_loss: 0.5951 - val_accuracy: 0.7181\n",
      "Epoch 6/10\n",
      "4857/4857 [==============================] - 249s 51ms/step - loss: 0.5986 - accuracy: 0.7142 - val_loss: 0.5948 - val_accuracy: 0.7181\n",
      "Epoch 7/10\n",
      "4857/4857 [==============================] - 249s 51ms/step - loss: 0.5986 - accuracy: 0.7142 - val_loss: 0.5948 - val_accuracy: 0.7181\n",
      "Epoch 8/10\n",
      "4857/4857 [==============================] - 249s 51ms/step - loss: 0.5986 - accuracy: 0.7142 - val_loss: 0.5949 - val_accuracy: 0.7181\n",
      "Epoch 9/10\n",
      "4857/4857 [==============================] - 249s 51ms/step - loss: 0.5986 - accuracy: 0.7142 - val_loss: 0.5951 - val_accuracy: 0.7181\n",
      "Epoch 10/10\n",
      "4857/4857 [==============================] - 249s 51ms/step - loss: 0.5985 - accuracy: 0.7142 - val_loss: 0.5950 - val_accuracy: 0.7181\n",
      "Model saved successfully.\n"
     ]
    }
   ],
   "source": [
    "class BreastCancerModel:\n",
    "    def __init__(self, name, base_model, input_shape):\n",
    "        self.name = name\n",
    "        self.base_model = base_model\n",
    "        self.input_shape = input_shape\n",
    "        self.models = {}\n",
    "\n",
    "    def build_model(self, num_neurons):\n",
    "        x = Flatten()(self.base_model.output)\n",
    "        x = Dense(num_neurons, activation='relu')(x)\n",
    "        x = Dense(num_neurons // 2, activation='relu')(x)\n",
    "        predictions = Dense(1, activation='sigmoid')(x)\n",
    "        model = Model(self.base_model.input, predictions)\n",
    "        return model\n",
    "\n",
    "    def train(self, X_train, y_train, X_val, y_val, batch_size, epochs, num_neurons):\n",
    "        model = self.build_model(num_neurons)\n",
    "        model.compile(optimizer=Adam(), loss='binary_crossentropy', metrics=['accuracy'])\n",
    "        history = model.fit(X_train, y_train, batch_size=batch_size, epochs=epochs,\n",
    "                            validation_data=(X_val, y_val))\n",
    "        self.models[num_neurons] = model\n",
    "        return history\n",
    "\n",
    "    def save_model(self, num_neurons, filepath):\n",
    "        if num_neurons in self.models:\n",
    "            model = self.models[num_neurons]\n",
    "            model.save(filepath)\n",
    "            print(\"Model saved successfully.\")\n",
    "        else:\n",
    "            print(\"Model not found for the specified number of neurons.\")\n",
    "\n",
    "# Define the input shape\n",
    "input_shape = (50, 50, 3)  # Adjust the number of channels if necessary\n",
    "\n",
    "# Create VGG19 model\n",
    "vgg19_base_model = VGG19(weights='imagenet', include_top=False, input_shape=input_shape)\n",
    "vgg19_model = BreastCancerModel(\"VGG19\", vgg19_base_model, input_shape)\n",
    "\n",
    "# Train the models\n",
    "batch_size = 32\n",
    "epochs = 10\n",
    "\n",
    "# Obtener el directorio de Google Drive\n",
    "drive_path = '/gdrive/MyDrive/UEM/data/TFM/'\n",
    "\n",
    "# Ruta de la carpeta donde deseas guardar los modelos\n",
    "folder_path = os.path.join(drive_path, 'Modelos/VGG19/')\n",
    "os.makedirs(folder_path, exist_ok=True)  # Crear la carpeta si no existe\n",
    "\n",
    "# Train and save models with different numbers of neurons\n",
    "num_neurons_list = [10, 20, 30]\n",
    "for num_neurons in num_neurons_list:\n",
    "    history = vgg19_model.train(X_train_subset, y_train_subset, X_test_subset, y_test_subset, batch_size, epochs, num_neurons)\n",
    "\n",
    "    # Guardar el historial (history)\n",
    "    history_filepath = os.path.join(folder_path, f\"VGG19_{num_neurons}_history.pkl\")\n",
    "    with open(history_filepath, 'wb') as file:\n",
    "        pickle.dump(history.history, file)\n",
    "\n",
    "    # Guarda el modelo completo\n",
    "    model_filepath = os.path.join(folder_path, f\"VGG19_Model_{num_neurons}.h5\")\n",
    "    vgg19_model.save_model(num_neurons, model_filepath)"
   ]
  },
  {
   "cell_type": "code",
   "execution_count": null,
   "metadata": {
    "id": "0tbKaYguf7T-"
   },
   "outputs": [],
   "source": []
  }
 ],
 "metadata": {
  "accelerator": "GPU",
  "colab": {
   "machine_shape": "hm",
   "provenance": []
  },
  "kernelspec": {
   "display_name": "Python 3 (ipykernel)",
   "language": "python",
   "name": "python3"
  },
  "language_info": {
   "codemirror_mode": {
    "name": "ipython",
    "version": 3
   },
   "file_extension": ".py",
   "mimetype": "text/x-python",
   "name": "python",
   "nbconvert_exporter": "python",
   "pygments_lexer": "ipython3",
   "version": "3.10.8"
  }
 },
 "nbformat": 4,
 "nbformat_minor": 1
}
